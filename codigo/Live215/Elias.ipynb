{
 "cells": [
  {
   "cell_type": "code",
   "execution_count": 8,
   "id": "1cc1b80a",
   "metadata": {},
   "outputs": [],
   "source": [
    "from pandas import DataFrame"
   ]
  },
  {
   "cell_type": "code",
   "execution_count": 12,
   "id": "0d56f446",
   "metadata": {},
   "outputs": [],
   "source": [
    "df = DataFrame({\n",
    "    'Date': ['2018-01-01', '2018-02-01', '2018-03-01', '2018-04-01', '2018-01-01'],\n",
    "    'Fruit': ['Banana','Apple', 'Apple', 'Banana', 'Banana'],\n",
    "    'Sale': [8, 34, 12, 22, 27]\n",
    "})"
   ]
  },
  {
   "cell_type": "code",
   "execution_count": 10,
   "id": "c3b2897a",
   "metadata": {},
   "outputs": [],
   "source": [
    "gb = df.groupby(['Fruit', 'Date'])"
   ]
  },
  {
   "cell_type": "code",
   "execution_count": 11,
   "id": "6ea7e11c",
   "metadata": {},
   "outputs": [
    {
     "name": "stdout",
     "output_type": "stream",
     "text": [
      "                   Sale\n",
      "Fruit  Date            \n",
      "Apple  2018-02-01    34\n",
      "       2018-03-01    12\n",
      "Banana 2018-01-01    35\n",
      "       2018-04-01    22\n"
     ]
    }
   ],
   "source": [
    "print(gb.agg('sum'))"
   ]
  }
 ],
 "metadata": {
  "kernelspec": {
   "display_name": "Python 3 (ipykernel)",
   "language": "python",
   "name": "python3"
  },
  "language_info": {
   "codemirror_mode": {
    "name": "ipython",
    "version": 3
   },
   "file_extension": ".py",
   "mimetype": "text/x-python",
   "name": "python",
   "nbconvert_exporter": "python",
   "pygments_lexer": "ipython3",
   "version": "3.10.6"
  }
 },
 "nbformat": 4,
 "nbformat_minor": 5
}
